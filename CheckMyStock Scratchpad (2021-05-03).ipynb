{
 "cells": [
  {
   "cell_type": "code",
   "execution_count": 22,
   "metadata": {},
   "outputs": [],
   "source": [
    "import yfinance as yf\n",
    "\n",
    "class CheckMyStockVitals:\n",
    "    \n",
    "    def __init__(self):\n",
    "    \n",
    "        \"\"\" Base class with a couple of functions that return basic info.\n",
    "            \"\"\"\n",
    "        \n",
    "    def check_vitals(company_name):\n",
    "        stock_ticker = yf.Ticker(company_name)\n",
    "        stock_info = stock_ticker.info\n",
    "        price = stock_info['regularMarketOpen']\n",
    "        name = stock_info['shortName']\n",
    "        print(\"The Market Open Price today for {} is ${}.\".format(name, price))\n",
    "        \n",
    "        \n",
    "class Binomial(Distribution):\n",
    "    \"\"\" Binomial distribution class for calculating and \n",
    "    visualizing a Binomial distribution.\n",
    "    \n",
    "    \n",
    "    TODO: Fill out all functions below\n",
    "            \n",
    "    \"\"\"\n",
    "    \n",
    "    \n",
    "    def __init__(self, prob=.5, size=20):\n",
    "                \n",
    "        self.n = size\n",
    "        self.p = prob\n",
    "        \n",
    "        Distribution.__init__(self, self.calculate_mean(), self.calculate_stdev())\n",
    "    \n",
    "                        \n",
    "    "
   ]
  },
  {
   "cell_type": "code",
   "execution_count": 24,
   "metadata": {},
   "outputs": [
    {
     "name": "stdout",
     "output_type": "stream",
     "text": [
      "The Market Open Price today for Exelon Corporation is $44.89.\n"
     ]
    }
   ],
   "source": []
  }
 ],
 "metadata": {
  "kernelspec": {
   "display_name": "Python 3",
   "language": "python",
   "name": "python3"
  },
  "language_info": {
   "codemirror_mode": {
    "name": "ipython",
    "version": 3
   },
   "file_extension": ".py",
   "mimetype": "text/x-python",
   "name": "python",
   "nbconvert_exporter": "python",
   "pygments_lexer": "ipython3",
   "version": "3.7.4"
  }
 },
 "nbformat": 4,
 "nbformat_minor": 2
}
