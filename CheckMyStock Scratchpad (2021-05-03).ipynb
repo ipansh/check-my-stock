{
 "cells": [
  {
   "cell_type": "code",
   "execution_count": 1,
   "metadata": {},
   "outputs": [],
   "source": []
  },
  {
   "cell_type": "code",
   "execution_count": 16,
   "metadata": {},
   "outputs": [],
   "source": [
    "import yfinance as yf\n",
    "\n",
    "def check_vitals(company_name):\n",
    "    stock_ticker = yf.Ticker(name)\n",
    "    stock_info = stock_ticker.info\n",
    "    price = stock_info['regularMarketOpen']\n",
    "    name = stock_info['shortName']\n",
    "    print(\"The Market Open Price today for {} is ${}\".format(name, price))"
   ]
  },
  {
   "cell_type": "code",
   "execution_count": 15,
   "metadata": {},
   "outputs": [
    {
     "name": "stdout",
     "output_type": "stream",
     "text": [
      "The Market Open Price today for Alibaba Group Holding Limited is $231.77\n"
     ]
    }
   ],
   "source": [
    "check_vitals(\"BABA\")"
   ]
  }
 ],
 "metadata": {
  "kernelspec": {
   "display_name": "Python 3",
   "language": "python",
   "name": "python3"
  },
  "language_info": {
   "codemirror_mode": {
    "name": "ipython",
    "version": 3
   },
   "file_extension": ".py",
   "mimetype": "text/x-python",
   "name": "python",
   "nbconvert_exporter": "python",
   "pygments_lexer": "ipython3",
   "version": "3.7.4"
  }
 },
 "nbformat": 4,
 "nbformat_minor": 2
}
