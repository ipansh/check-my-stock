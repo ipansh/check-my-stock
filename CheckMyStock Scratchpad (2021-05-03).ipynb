{
 "cells": [
  {
   "cell_type": "code",
   "execution_count": 1,
   "metadata": {},
   "outputs": [],
   "source": []
  },
  {
   "cell_type": "code",
   "execution_count": 21,
   "metadata": {},
   "outputs": [],
   "source": [
    "import yfinance as yf\n",
    "\n",
    "def check_vitals(company_name):\n",
    "    stock_ticker = yf.Ticker(company_name)\n",
    "    stock_info = stock_ticker.info\n",
    "    price = stock_info['regularMarketOpen']\n",
    "    name = stock_info['shortName']\n",
    "    print(\"The Market Open Price today for {} is ${}.\".format(name, price))"
   ]
  },
  {
   "cell_type": "code",
   "execution_count": 20,
   "metadata": {},
   "outputs": [
    {
     "name": "stdout",
     "output_type": "stream",
     "text": [
      "The Market Open Price today for Exelon Corporation is $44.89\n"
     ]
    }
   ],
   "source": [
    "check_vitals(\"EXC\")"
   ]
  },
  {
   "cell_type": "code",
   "execution_count": null,
   "metadata": {},
   "outputs": [],
   "source": []
  }
 ],
 "metadata": {
  "kernelspec": {
   "display_name": "Python 3",
   "language": "python",
   "name": "python3"
  },
  "language_info": {
   "codemirror_mode": {
    "name": "ipython",
    "version": 3
   },
   "file_extension": ".py",
   "mimetype": "text/x-python",
   "name": "python",
   "nbconvert_exporter": "python",
   "pygments_lexer": "ipython3",
   "version": "3.7.4"
  }
 },
 "nbformat": 4,
 "nbformat_minor": 2
}
